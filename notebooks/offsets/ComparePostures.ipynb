{
 "cells": [
  {
   "cell_type": "code",
   "execution_count": null,
   "metadata": {
    "collapsed": false
   },
   "outputs": [],
   "source": [
    "import predictpostures, predictposturesGP, averagepostures\n",
    "reload(predictpostures)\n",
    "reload(predictposturesGP)\n",
    "reload(averagepostures)\n",
    "\n",
    "noregr = []\n",
    "pred = []\n",
    "predGP = []\n",
    "averGP = []\n",
    "\n",
    "noregr_mse = []\n",
    "pred_mse = []\n",
    "predGP_mse = []\n",
    "averGP_mse = []\n",
    "\n",
    "for i in range(8, 9):\n",
    "    print (\"Processing user %d\" %i)\n",
    "    \n",
    "    before, after, mse_bef, mse_aft = predictpostures.run(i)\n",
    "    pred.append(after[1])\n",
    "    pred_mse.append([mse_bef, mse_aft])\n",
    "    noregr.append(before[1])\n",
    "    \n",
    "    before, after, mse_bef, mse_aft = predictposturesGP.run(i)\n",
    "    predGP.append(after[1])\n",
    "    predGP_mse.append([mse_bef, mse_aft])\n",
    "    \n",
    "    before, after, mse_bef, mse_aft = averagepostures.run(i)\n",
    "    averGP.append(after[1])\n",
    "    averGP_mse.append([mse_bef, mse_aft])\n",
    "\n",
    "print \"###################\"    \n",
    "print \"Processing Complete\"    "
   ]
  },
  {
   "cell_type": "code",
   "execution_count": 8,
   "metadata": {
    "collapsed": false
   },
   "outputs": [
    {
     "name": "stdout",
     "output_type": "stream",
     "text": [
      "[0.71113989637305697]\n",
      "[0.81610056610056603]\n",
      "[]\n",
      "[]\n",
      "\n",
      "[]\n",
      "[[293.45595854922283, 228.98869361777957]]\n",
      "[]\n",
      "[]\n"
     ]
    }
   ],
   "source": [
    "print noregr\n",
    "print pred \n",
    "print predGP \n",
    "print averGP \n",
    "print\n",
    "print noregr_mse \n",
    "print pred_mse \n",
    "print predGP_mse \n",
    "print averGP_mse "
   ]
  }
 ],
 "metadata": {
  "kernelspec": {
   "display_name": "Python 2",
   "language": "python",
   "name": "python2"
  },
  "language_info": {
   "codemirror_mode": {
    "name": "ipython",
    "version": 2
   },
   "file_extension": ".py",
   "mimetype": "text/x-python",
   "name": "python",
   "nbconvert_exporter": "python",
   "pygments_lexer": "ipython2",
   "version": "2.7.6"
  }
 },
 "nbformat": 4,
 "nbformat_minor": 0
}
