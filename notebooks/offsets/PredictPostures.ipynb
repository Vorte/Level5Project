{
 "metadata": {
  "name": ""
 },
 "nbformat": 3,
 "nbformat_minor": 0,
 "worksheets": [
  {
   "cells": [
    {
     "cell_type": "code",
     "collapsed": false,
     "input": [
      "import numpy as np\n",
      "import ast, dataIO, common_functions\n",
      "from sklearn import cross_validation, linear_model, preprocessing, svm\n",
      "from sklearn.grid_search import GridSearchCV\n",
      "reload(dataIO)\n",
      "reload(common_functions)\n",
      "\n",
      "postures = {\"left_hand\":[\"4\", \"8\", \"11\"], \"right_hand\":[\"1\", \"7\", \"10\"], \n",
      "            \"index_finger\":[\"3\", \"5\", \"12\"], \"two_hand\":[\"2\", \"6\", \"9\"]}\n",
      "\n",
      "def process_twohand(userid, filenos):\n",
      "    touches = []\n",
      "    \n",
      "    for fileno in filenos:\n",
      "        filename = \"/home/dimitar/Desktop/Python/experiment/results/\"+str(userid)+\"_\"+fileno+\"up.txt\"\n",
      "        with open(filename, \"r\") as f:\n",
      "            lines = f.read().splitlines()\n",
      "            lines = map(lambda x: x.split('\\t'), lines[1:])\n",
      "            for line in lines:\n",
      "                letter = line[1]\n",
      "                location = ast.literal_eval(line[3])\n",
      "                x = location[0]\n",
      "                y = location[1]\n",
      "                time = line[2]\n",
      "                bod = dataIO.createlist(line[-1])\n",
      "                if line[0] == \"left\":\n",
      "                    touch = dataIO.Touch(x,y,bod,letter,time, True, \"two_hand\")\n",
      "                else:\n",
      "                    touch = dataIO.Touch(x,y,bod,letter,time, False, \"two_hand\")\n",
      "                touches.append(touch)\n",
      "                \n",
      "    return touches\n",
      "\n",
      "def process_posture(userid, filenos, posture):\n",
      "    touches = []\n",
      "    \n",
      "    for fileno in filenos:\n",
      "        filename = \"/home/dimitar/Desktop/Python/experiment/results/\"+str(userid)+\"_\"+fileno+\"up.txt\"\n",
      "        with open(filename, \"r\") as f:\n",
      "            lines = f.read().splitlines()\n",
      "            lines = map(lambda x: x.split('\\t'), lines[1:])\n",
      "            for line in lines:\n",
      "                letter = line[0]\n",
      "                location = ast.literal_eval(line[2])\n",
      "                x = location[0]\n",
      "                y = location[1]\n",
      "                time = line[1]\n",
      "                bod = dataIO.createlist(line[-1])\n",
      "                touch = dataIO.Touch(x,y,bod,letter,time, False, posture)\n",
      "                touches.append(touch)\n",
      "                \n",
      "    return touches    \n",
      "\n",
      "def get_touches(userid):    \n",
      "    keys = postures.keys()\n",
      "    touches = []\n",
      "    \n",
      "    for key in keys:\n",
      "        filenos = postures[key]\n",
      "        if key==\"two_hand\":\n",
      "            touches += process_twohand(userid, filenos)\n",
      "        else:\n",
      "            touches += process_posture(userid, filenos, key)  \n",
      "        \n",
      "    return touches\n",
      "\n",
      "\n",
      "touches = get_touches(3)\n",
      "filtered = dataIO.filter_new(locations)\n",
      "\n",
      "centers = dataIO.get_key_centers()\n",
      "keys = centers.keys()\n",
      "\n"
     ],
     "language": "python",
     "metadata": {},
     "outputs": [
      {
       "ename": "SyntaxError",
       "evalue": "'return' outside function (<ipython-input-6-7eb2ddb4522b>, line 71)",
       "output_type": "pyerr",
       "traceback": [
        "\u001b[0;36m  File \u001b[0;32m\"<ipython-input-6-7eb2ddb4522b>\"\u001b[0;36m, line \u001b[0;32m71\u001b[0m\n\u001b[0;31m    return\u001b[0m\n\u001b[0;31mSyntaxError\u001b[0m\u001b[0;31m:\u001b[0m 'return' outside function\n"
       ]
      },
      {
       "output_type": "stream",
       "stream": "stdout",
       "text": [
        "780\n",
        "780\n"
       ]
      }
     ],
     "prompt_number": 6
    }
   ],
   "metadata": {}
  }
 ]
}