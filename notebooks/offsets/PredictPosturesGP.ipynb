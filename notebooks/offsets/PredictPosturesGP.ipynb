{
 "cells": [
  {
   "cell_type": "code",
   "execution_count": 1,
   "metadata": {
    "collapsed": false
   },
   "outputs": [
    {
     "name": "stdout",
     "output_type": "stream",
     "text": [
      "MSE on x before regression: 305.11\n",
      "MSE on y before regression: 128.41\n",
      "\n",
      "##### Fold 1 #####\n",
      "\n",
      "Best gamma: 0.100000\n"
     ]
    },
    {
     "name": "stderr",
     "output_type": "stream",
     "text": [
      "/users/level5/1005056p/miniconda/lib/python2.7/site-packages/GPy/util/linalg.py:48: UserWarning: warning: caught this exception:/users/level5/1005056p/miniconda/lib/python2.7/site-packages/numpy/core/_dotblas.so: undefined symbol: dsyrk_\n",
      "  warnings.warn(\"warning: caught this exception:\" + str(e))\n"
     ]
    },
    {
     "ename": "NameError",
     "evalue": "name 'fold' is not defined",
     "output_type": "error",
     "traceback": [
      "\u001b[1;31m---------------------------------------------------------------------------\u001b[0m",
      "\u001b[1;31mNameError\u001b[0m                                 Traceback (most recent call last)",
      "\u001b[1;32m<ipython-input-1-7c40aec04f12>\u001b[0m in \u001b[0;36m<module>\u001b[1;34m()\u001b[0m\n\u001b[0;32m    115\u001b[0m     \u001b[0mse_x\u001b[0m\u001b[1;33m.\u001b[0m\u001b[0mappend\u001b[0m\u001b[1;33m(\u001b[0m\u001b[1;33m(\u001b[0m\u001b[0mnew_points\u001b[0m\u001b[1;33m[\u001b[0m\u001b[1;36m0\u001b[0m\u001b[1;33m]\u001b[0m\u001b[1;33m-\u001b[0m\u001b[0mcenters_test\u001b[0m\u001b[1;33m[\u001b[0m\u001b[1;36m0\u001b[0m\u001b[1;33m]\u001b[0m\u001b[1;33m)\u001b[0m\u001b[1;33m**\u001b[0m\u001b[1;36m2\u001b[0m\u001b[1;33m)\u001b[0m\u001b[1;33m\u001b[0m\u001b[0m\n\u001b[0;32m    116\u001b[0m     \u001b[0mse_y\u001b[0m\u001b[1;33m.\u001b[0m\u001b[0mappend\u001b[0m\u001b[1;33m(\u001b[0m\u001b[1;33m(\u001b[0m\u001b[0mnew_points\u001b[0m\u001b[1;33m[\u001b[0m\u001b[1;36m1\u001b[0m\u001b[1;33m]\u001b[0m\u001b[1;33m-\u001b[0m\u001b[0mcenters_test\u001b[0m\u001b[1;33m[\u001b[0m\u001b[1;36m1\u001b[0m\u001b[1;33m]\u001b[0m\u001b[1;33m)\u001b[0m\u001b[1;33m**\u001b[0m\u001b[1;36m2\u001b[0m\u001b[1;33m)\u001b[0m\u001b[1;33m\u001b[0m\u001b[0m\n\u001b[1;32m--> 117\u001b[1;33m     \u001b[0mfold\u001b[0m \u001b[1;33m+=\u001b[0m \u001b[1;36m1\u001b[0m\u001b[1;33m\u001b[0m\u001b[0m\n\u001b[0m\u001b[0;32m    118\u001b[0m \u001b[1;33m\u001b[0m\u001b[0m\n\u001b[0;32m    119\u001b[0m \u001b[0mse_x\u001b[0m \u001b[1;33m=\u001b[0m \u001b[0mnp\u001b[0m\u001b[1;33m.\u001b[0m\u001b[0marray\u001b[0m\u001b[1;33m(\u001b[0m\u001b[1;33m[\u001b[0m\u001b[0mitem\u001b[0m \u001b[1;32mfor\u001b[0m \u001b[0msublist\u001b[0m \u001b[1;32min\u001b[0m \u001b[0mse_x\u001b[0m \u001b[1;32mfor\u001b[0m \u001b[0mitem\u001b[0m \u001b[1;32min\u001b[0m \u001b[0msublist\u001b[0m\u001b[1;33m]\u001b[0m\u001b[1;33m)\u001b[0m\u001b[1;33m\u001b[0m\u001b[0m\n",
      "\u001b[1;31mNameError\u001b[0m: name 'fold' is not defined"
     ]
    }
   ],
   "source": [
    "import numpy as np\n",
    "import dataIO\n",
    "from VBGP import VBGP\n",
    "from sklearn import cross_validation, linear_model, preprocessing, svm\n",
    "reload(dataIO)\n",
    "\n",
    "postures = {\"left_hand\":[\"4\", \"8\", \"11\"], \"right_hand\":[\"1\", \"7\", \"10\"], \n",
    "            \"index_finger\":[\"3\", \"5\", \"12\"], \"two_hand\":[\"2\", \"6\", \"9\"]}\n",
    "\n",
    "locations = []\n",
    "bod = []\n",
    "targets_x = []\n",
    "targets_y = []\n",
    "y = []\n",
    "touch_centers = []\n",
    "\n",
    "def learn_offset(points, targets):\n",
    "    regr = linear_model.LinearRegression()\n",
    "    regr.fit(points, targets)\n",
    "    \n",
    "    return regr\n",
    "\n",
    "userId = 8\n",
    "keys = postures.keys()\n",
    "locations = []\n",
    "bod = []\n",
    "targets_x = []\n",
    "targets_y = []\n",
    "y = []\n",
    "touch_centers = []\n",
    "\n",
    "posture = 0\n",
    "for key in keys:\n",
    "    filenos = postures[key]\n",
    "    if key == \"two_hand\":\n",
    "        a, b, c, d, e, f = dataIO.process_twohand(userId, posture)\n",
    "        posture += 2\n",
    "    else:\n",
    "        a, b, c, d, e, f = dataIO.process_posture(userId, filenos, posture)\n",
    "        posture += 1\n",
    "    \n",
    "    locations += a\n",
    "    bod += b\n",
    "    targets_x += c \n",
    "    targets_y += d \n",
    "    y += e\n",
    "    touch_centers += f\n",
    "\n",
    "locations = np.array(locations)\n",
    "bod = np.array(bod)\n",
    "targets_x = np.array(targets_x)\n",
    "targets_y = np.array(targets_y)\n",
    "y = np.array(y)\n",
    "touch_centers = np.array(touch_centers)\n",
    "\n",
    "print(\"MSE on x before regression: %.2f\"  % np.mean(targets_x ** 2))\n",
    "print(\"MSE on y before regression: %.2f\"  % np.mean(targets_y ** 2))\n",
    "within_before = dataIO.circle_button_error(locations, touch_centers)\n",
    "\n",
    "thetas = np.array([[1 for x in range(24)], [0.1 for x in range(24)], [0.01 for x in range(24)],\n",
    "         [0.001 for x in range(24)],[10 for x in range(24)]])\n",
    "\n",
    "foldno = 1\n",
    "se_x = []\n",
    "se_y = []\n",
    "within_after = []\n",
    "kf = cross_validation.KFold(len(y), n_folds=10, shuffle=True)\n",
    "\n",
    "for train_index, test_index in kf: \n",
    "    print\n",
    "    print (\"##### Fold %d #####\"%foldno)\n",
    "    print\n",
    "    points_train, points_test = locations[train_index], locations[test_index]\n",
    "    bod_train, bod_test = bod[train_index], bod[test_index]\n",
    "    t_x_train, t_x_test = targets_x[train_index], targets_x[test_index]\n",
    "    t_y_train, t_y_test = targets_y[train_index], targets_y[test_index]\n",
    "    y_train, y_test = y[train_index], y[test_index]\n",
    "    centers_train, centers_test = touch_centers[train_index], touch_centers[test_index]\n",
    "    \n",
    "    scaler = preprocessing.StandardScaler().fit(bod_train)  \n",
    "    bod_scaled = scaler.transform(bod_train)\n",
    "    test = scaler.transform(bod_test)\n",
    "    \n",
    "    gp = VBGP.VBGP()\n",
    "    gp.fit(bod_scaled, y_train, theta=thetas[0], nos_its = 50, thresh = 0.1)\n",
    "    gp.optimize(thetas, nos_its = 50, thresh = 0.1)\n",
    "    \n",
    "    print \"Best gamma: %f\" %gp.Theta[0][0]\n",
    "    \n",
    "    probabilities = gp.predict(test)    \n",
    "    pred = np.argmax(probabilities, axis=1)\n",
    "    \n",
    "    regr_x = []\n",
    "    regr_y = []\n",
    "    \n",
    "    for i in range(0,5):\n",
    "        index = np.where(y_train==i)[0]\n",
    "        regr_x.append(learn_offset(points_train[index], t_x_train[index]))\n",
    "        regr_y.append(learn_offset(points_train[index], t_y_train[index]))\n",
    "        \n",
    "    new_points = np.zeros((len(points_test), 2))\n",
    "    for i in range(len(points_test)):        \n",
    "        point = points_test[i]\n",
    "        \n",
    "        pred_x = regr_x[pred[i]].predict(point)\n",
    "        pred_y = regr_y[pred[i]].predict(point)\n",
    "        \n",
    "        new_points[i][0] = point[0]+pred_x\n",
    "        new_points[i][1] = point[1]+pred_y\n",
    "     \n",
    "    within_after.append(dataIO.circle_button_error(new_points, centers_test))\n",
    "    new_points = np.array(new_points).T\n",
    "    centers_test = centers_test.T\n",
    "    \n",
    "    se_x.append((new_points[0]-centers_test[0])**2)\n",
    "    se_y.append((new_points[1]-centers_test[1])**2)   \n",
    "    foldno += 1\n",
    "\n",
    "se_x = np.array([item for sublist in se_x for item in sublist])\n",
    "se_y = np.array([item for sublist in se_y for item in sublist])\n",
    "\n",
    "print \n",
    "print(\"Mean MSE on x: %.2f\" % np.mean(se_x))\n",
    "print(\"Mean MSE on y: %.2f\" % np.mean(se_y))      \n",
    "within_after = np.mean(np.array(within_after), 0)"
   ]
  },
  {
   "cell_type": "code",
   "execution_count": 13,
   "metadata": {
    "collapsed": false
   },
   "outputs": [
    {
     "data": {
      "image/png": "[encoded data removed]",
      "text/plain": [
       "<matplotlib.figure.Figure at 0x7fbf9c256e90>"
      ]
     },
     "metadata": {},
     "output_type": "display_data"
    }
   ],
   "source": [
    "import matplotlib.pyplot as plt\n",
    "%matplotlib inline\n",
    "\n",
    "fig = plt.figure(figsize=(10, 7))\n",
    "\n",
    "plt.errorbar(range(1,8), within_after, marker=\"o\", label = \"model\")\n",
    "plt.errorbar(range(1,8), within_before, linestyle=\"--\", marker=\"o\", label=\"no model\")\n",
    "\n",
    "plt.legend(loc='lower right')\n",
    "plt.xlabel('virtual button size in mm')\n",
    "plt.ylabel('% of touches within button')\n",
    "plt.show()\n",
    "\n",
    "#plt.savefig(\"predictpostures.png\")"
   ]
  }
 ],
 "metadata": {
  "kernelspec": {
   "display_name": "Python 2",
   "language": "python",
   "name": "python2"
  },
  "language_info": {
   "codemirror_mode": {
    "name": "ipython",
    "version": 2
   },
   "file_extension": ".py",
   "mimetype": "text/x-python",
   "name": "python",
   "nbconvert_exporter": "python",
   "pygments_lexer": "ipython2",
   "version": "2.7.9"
  }
 },
 "nbformat": 4,
 "nbformat_minor": 0
}
