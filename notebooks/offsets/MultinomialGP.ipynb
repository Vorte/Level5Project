{
 "cells": [
  {
   "cell_type": "code",
   "execution_count": 21,
   "metadata": {
    "collapsed": false
   },
   "outputs": [
    {
     "name": "stdout",
     "output_type": "stream",
     "text": [
      "[[  7.94771063e-06   9.90030296e-01   9.86937379e-03   5.95542608e-08\n",
      "    7.37611133e-05   1.85614682e-05]]\n"
     ]
    }
   ],
   "source": [
    "import numpy as np\n",
    "X = np.random.randint(5, size=(6, 100))\n",
    "y = np.array([1, 2, 3, 4, 5, 6])\n",
    "from sklearn.naive_bayes import MultinomialNB, GaussianNB\n",
    "clf =  MultinomialNB()\n",
    "clf.fit(X, y)\n",
    "\n",
    "test = X[0]\n",
    "test[1] = 0\n",
    "test = np.random.randint(5, size=(100))\n",
    "\n",
    "print(clf.predict_proba(test))"
   ]
  },
  {
   "cell_type": "code",
   "execution_count": 47,
   "metadata": {
    "collapsed": false
   },
   "outputs": [
    {
     "data": {
      "text/plain": [
       "array([[ 1.],\n",
       "       [ 1.],\n",
       "       [ 1.],\n",
       "       [ 1.],\n",
       "       [ 1.],\n",
       "       [ 1.],\n",
       "       [ 1.],\n",
       "       [ 1.],\n",
       "       [ 1.],\n",
       "       [ 1.]])"
      ]
     },
     "execution_count": 47,
     "metadata": {},
     "output_type": "execute_result"
    }
   ],
   "source": [
    "np.ones((10,1))"
   ]
  },
  {
   "cell_type": "code",
   "execution_count": 37,
   "metadata": {
    "collapsed": false
   },
   "outputs": [],
   "source": [
    "### normcdf\n",
    "import numpy as np\n",
    "from scipy.special import erfc\n",
    "import math\n",
    "\n",
    "def normcdfM(x, m=None, s=None):\n",
    "    if m==None and s==None:\n",
    "        z = x\n",
    "    elif s==None:\n",
    "        z = x-m\n",
    "    else:\n",
    "        z = (x-m)/s\n",
    "        \n",
    "    return 0.5*erfc(-z/math.sqrt(2))\n",
    "    "
   ]
  },
  {
   "cell_type": "code",
   "execution_count": 78,
   "metadata": {
    "collapsed": false
   },
   "outputs": [],
   "source": [
    "### normpdf\n",
    "\n",
    "import numpy as np\n",
    "import math\n",
    "\n",
    "def normpdfM(x, m=0, s=1):    \n",
    "    o = 1.0/math.sqrt(2.0*math.pi*(s**2))\n",
    "    \n",
    "    return o*math.exp((-((x-m)**2)/(2*(s**2)))[0])\n",
    "    "
   ]
  },
  {
   "cell_type": "code",
   "execution_count": 121,
   "metadata": {
    "collapsed": false
   },
   "outputs": [],
   "source": [
    "##tmean\n",
    "\n",
    "import numpy as np\n",
    "\n",
    "def tmean(m, index_max, n_samps):\n",
    "    \n",
    "    K = m.shape[0]\n",
    "    u = np.random.randn(n_samps,1)\n",
    "\n",
    "    t = m[index_max]*np.ones((K, 1)) - m \n",
    "    tr = t\n",
    "    t = np.delete(t, index_max, 0)\n",
    "    \n",
    "    s = np.tile(u, (1, K-1)) + np.tile(t,(1, n_samps)).conj().T\n",
    "    z = np.mean(np.prod(safenormcdf(s.conj().T), 0))\n",
    "\n",
    "    tm = np.zeros(m.shape[0])\n",
    "    for r in range(0, K):\n",
    "        sr = np.tile(u, (1, K)) + np.tile(tr, (1, n_samps)).conj().T\n",
    "        sr.take([r, index_max], axis=1) # TEST\n",
    "        \n",
    "        #print (u.conj().T + m[index_max]- m[r]).shape\n",
    "        nr = np.mean(safenormpdf(u.conj().T + m[index_max] \n",
    "                                 - m[r])*np.prod(safenormcdf(sr.conj().T), 1))\n",
    "        \n",
    "        if r == index_max:\n",
    "            tm[r] = 0\n",
    "        else:\n",
    "            tm[r] = m[r] - nr/z\n",
    "            \n",
    "    tm[index_max] = np.sum(m, axis=0) - np.sum(tm, axis=0)\n",
    "    tm = tm.conj().T                    \n",
    "            \n",
    "    return tm, z\n",
    "                                                               \n",
    "\n",
    "def safenormcdf(x):\n",
    "    #x = x[0]\n",
    "    thresh=-10;\n",
    "    x[np.nonzero(x<thresh)] = thresh\n",
    "    return normcdfM(x)\n",
    "\n",
    "def safenormpdf(x):\n",
    "    x=x[0]\n",
    "    thresh=35;\n",
    "    x[np.nonzero(x<-thresh)] = -thresh\n",
    "    x[np.nonzero(x>thresh)] = thresh\n",
    "    return normpdfM(x)\n",
    "\n",
    "def safelog(x):\n",
    "    x[np.nonzero(x<1e-300)] = 1e-200\n",
    "    x[np.nonzero(x>1e300)] = 1e300\n",
    "    return math.log(x)\n",
    "        "
   ]
  },
  {
   "cell_type": "code",
   "execution_count": 172,
   "metadata": {
    "collapsed": false
   },
   "outputs": [
    {
     "name": "stdout",
     "output_type": "stream",
     "text": [
      "[[ 0.2  0.2]\n",
      " [ 0.2  0.2]\n",
      " [ 0.2  0.2]\n",
      " [ 0.2  0.2]\n",
      " [ 0.2  0.2]]\n",
      "[[  1.08007194e-105  -3.40203937e-107   1.81982278e-106   1.10179554e-106\n",
      "   -3.60483426e-106]\n",
      " [ -1.37709308e-119  -6.36713805e-119   3.54825053e-119   3.31186403e-118\n",
      "   -1.30828747e-118]]\n"
     ]
    }
   ],
   "source": [
    "import numpy as np\n",
    "from sklearn.metrics.pairwise import rbf_kernel\n",
    "\n",
    "def dist(X,Y,Z): # X, Y matrices, Z scalar\n",
    "    \n",
    "    nx = X.shape[0]\n",
    "    ny = Y.shape[0]\n",
    "    \n",
    "    vector = np.sum((X**2)*Z, 1).conj().T\n",
    "    vector = vector.reshape(1, vector.shape[0])\n",
    "\n",
    "    distance= (np.sum((X**2)*Z, 1)*np.ones((1,ny))+\n",
    "              np.ones((nx,1))*(np.sum((X**2)*Z, 1).conj().T) - 2*(np.dot(X*Z, Y.conj().T))) ## NOT WORKING\n",
    "\n",
    "    #print np.shape(np.ones((nx,1))*vector)\n",
    "    #distance= (np.sum((X**2)*Z, 1)*np.ones((1,ny))+\n",
    "    #       np.ones((nx,1))*vector - 2*(np.dot(X*Z, Y.conj().T)))\n",
    "           \n",
    "    return distance\n",
    "\n",
    "\n",
    "def VarMultProbRegGP(X, t, X_test=0, t_test=0, theta=0, theta_estimate=0, \n",
    "                     nos_its=0, kernel_Type=0, poly_kernel_power=0, thresh=0):\n",
    "\n",
    "    SMALL_NOS = 1e-10\n",
    "\n",
    "    nos_samps_tg = 1000\n",
    "\n",
    "    nos_samps_is = 1000\n",
    "\n",
    "    sigma = 1e-6\n",
    "\n",
    "    tau = 1e-6\n",
    "\n",
    "    C = np.max(t) # change to number of classes\n",
    "    N, D = X.shape\n",
    "    Y = np.random.randn(N, C)\n",
    "    M = np.random.rand(N, C)\n",
    "    beta = theta\n",
    "    Theta = np.diag(theta)\n",
    "\n",
    "    psi = np.ones((1, theta.size)) \n",
    "    In = np.eye(N)\n",
    "    Ic = np.eye(C)\n",
    "\n",
    "    diff = 1e100\n",
    "    its = 0\n",
    "\n",
    "    #K = np.exp(-dist(X,X,Theta)) + np.eye(N)*SMALL_NOS; # TODO: implement create kernel function\n",
    "    K = rbf_kernel(X,X, Theta)+ np.eye(N)*SMALL_NOS\n",
    "    \n",
    "    iK = np.linalg.inv(K+In)\n",
    "    Ki = K*iK\n",
    "    \n",
    "    THETA = []\n",
    "    #LOWER_BOUND = [-1e-3]\n",
    "    PL = []\n",
    "    \n",
    "    test_err = []\n",
    "    while its<nos_its and diff>thresh:\n",
    "        its += 1\n",
    "        \n",
    "        for k in range(0, C):\n",
    "            M[:,k] = np.dot(Ki, Y[:,k])\n",
    "        \n",
    "        #print M.shape\n",
    "        for n in range(0, N):\n",
    "            #print t[n]\n",
    "            a, z = tmean(M[[n],].conj().T, t[n]-1, nos_samps_tg)\n",
    "            Y[n,] = a.conj().T\n",
    "            \n",
    "        #print Y.shape\n",
    "        \n",
    "    \n",
    "        ####### predict ########\n",
    "\n",
    "        n_test = X_test.shape[0]\n",
    "        #K_test = np.exp(-dist(X,X_test,Theta))\n",
    "        #K_test_self = np.exp(-dist(X_test,X_test,Theta))\n",
    "        K_test = rbf_kernel(X,X_test,Theta)\n",
    "        K_test_self = rbf_kernel(X_test,X_test,Theta)\n",
    "\n",
    "        S = (np.diag(K_test_self) - np.diag(np.dot(np.dot(K_test.conj().T, iK), K_test))).conj().T\n",
    "\n",
    "        predictive_likelihood = 0\n",
    "        res = (np.dot(np.dot(Y.conj().T, iK), K_test)).conj().T\n",
    "        P_test = np.ones((n_test, C))\n",
    "        u = np.random.randn(nos_samps_tg, 1)\n",
    "\n",
    "        for n in range(0, n_test):\n",
    "            for i in range(0, C):\n",
    "                pp = np.ones((nos_samps_tg, 1))\n",
    "                for j in range(0, C):\n",
    "                    if j!=i:\n",
    "                        pp = pp*safenormcdf(u+(res[n,i]-res[n,j])/(math.sqrt(1+S[n])))               \n",
    "\n",
    "                P_test[n,i] = np.mean(pp)\n",
    "            P_test[n,] = P_test[n,]/np.sum(P_test[n,])\n",
    "\n",
    "            #predictive_likelihood = predictive_likelihood + safelog(P_test[n, t_test[n]])\n",
    "\n",
    "        P_test = P_test.conj().T\n",
    "\n",
    "    \n",
    "    print P_test\n",
    "    print res\n",
    "        \n",
    "    \n",
    "X = np.random.randint(5, size=(6, 100))\n",
    "X_test = np.random.randint(5, size=(2, 100))\n",
    "theta = np.random.rand(1, 10)\n",
    "y = np.array([0, 1, 2, 3, 4, 5])\n",
    "VarMultProbRegGP(X, y, theta=theta, nos_its=100, thresh = 0.01, X_test=X_test)    \n",
    "\n"
   ]
  }
 ],
 "metadata": {
  "kernelspec": {
   "display_name": "Python 2",
   "language": "python",
   "name": "python2"
  },
  "language_info": {
   "codemirror_mode": {
    "name": "ipython",
    "version": 2
   },
   "file_extension": ".py",
   "mimetype": "text/x-python",
   "name": "python",
   "nbconvert_exporter": "python",
   "pygments_lexer": "ipython2",
   "version": "2.7.6"
  }
 },
 "nbformat": 4,
 "nbformat_minor": 0
}
