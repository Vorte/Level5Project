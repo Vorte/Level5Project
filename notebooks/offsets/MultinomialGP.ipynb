{
 "cells": [
  {
   "cell_type": "code",
   "execution_count": 21,
   "metadata": {
    "collapsed": false
   },
   "outputs": [
    {
     "name": "stdout",
     "output_type": "stream",
     "text": [
      "[[  7.94771063e-06   9.90030296e-01   9.86937379e-03   5.95542608e-08\n",
      "    7.37611133e-05   1.85614682e-05]]\n"
     ]
    }
   ],
   "source": [
    "import numpy as np\n",
    "X = np.random.randint(5, size=(6, 100))\n",
    "y = np.array([1, 2, 3, 4, 5, 6])\n",
    "from sklearn.naive_bayes import MultinomialNB, GaussianNB\n",
    "clf =  MultinomialNB()\n",
    "clf.fit(X, y)\n",
    "\n",
    "test = X[0]\n",
    "test[1] = 0\n",
    "test = np.random.randint(5, size=(100))\n",
    "\n",
    "print(clf.predict_proba(test))"
   ]
  },
  {
   "cell_type": "code",
   "execution_count": 47,
   "metadata": {
    "collapsed": false
   },
   "outputs": [
    {
     "data": {
      "text/plain": [
       "array([[ 1.],\n",
       "       [ 1.],\n",
       "       [ 1.],\n",
       "       [ 1.],\n",
       "       [ 1.],\n",
       "       [ 1.],\n",
       "       [ 1.],\n",
       "       [ 1.],\n",
       "       [ 1.],\n",
       "       [ 1.]])"
      ]
     },
     "execution_count": 47,
     "metadata": {},
     "output_type": "execute_result"
    }
   ],
   "source": [
    "np.ones((10,1))"
   ]
  },
  {
   "cell_type": "code",
   "execution_count": 125,
   "metadata": {
    "collapsed": false
   },
   "outputs": [],
   "source": [
    "### normcdf\n",
    "import numpy as np\n",
    "from scipy.special import erfc\n",
    "import math\n",
    "\n",
    "def normcdfM(x, m=None, s=None):\n",
    "    if m==None and s==None:\n",
    "        z = x\n",
    "    if s==None:\n",
    "        z = x-m\n",
    "    else:\n",
    "        z = (x-m)/s\n",
    "        \n",
    "    return 0.5*erfc(-z/math.sqrt(2))\n",
    "    "
   ]
  },
  {
   "cell_type": "code",
   "execution_count": 126,
   "metadata": {
    "collapsed": false
   },
   "outputs": [],
   "source": [
    "### normpdf\n",
    "\n",
    "import numpy as np\n",
    "import math\n",
    "\n",
    "def normcdfM(x, m=0, s=1):\n",
    "    z = (x-m)/s\n",
    "    \n",
    "    o = 1/math.sqrt(2*math.pi()*(s**2))\n",
    "    return o*math.exp(-((x-m)**2)/(2*(s**2)))\n",
    "    "
   ]
  },
  {
   "cell_type": "code",
   "execution_count": 145,
   "metadata": {
    "collapsed": false
   },
   "outputs": [],
   "source": [
    "##tmean\n",
    "\n",
    "import numpy as np\n",
    "\n",
    "def tmean(m, index_max, n_samps):\n",
    "    K = m.shape[0]\n",
    "    u = np.random.randn(n_samps,1)\n",
    "\n",
    "    t = m[index_max]*np.ones((K,1)) - m ## error?\n",
    "    tr = t\n",
    "    t = np.delete(t, index_max, 0)\n",
    "    # t[index_max] = [] TEST\n",
    "    \n",
    "    print m.shape\n",
    "    print u.shape\n",
    "    print K\n",
    "    print t.shape # wrong\n",
    "    print n_samps\n",
    "    \n",
    "    s = np.tile(u, (1, K-1)) + np.tile(t,(1, n_samps)).conj().T\n",
    "    z = np.mean(np.prod(safenormcdf(s.conj().T), 0))\n",
    "\n",
    "    for r in range(0, K):\n",
    "        sr = tile(u, (1, K)) + tile(tr, (1, n_samps)).conj().T\n",
    "        print sr.take([r, index_max], axis=1) # TEST\n",
    "        nr = np.mean(safenormpdf(u.conj().T + m[index_max] \n",
    "                                 - m[r])*np.prod(safenormcdf(sr.conj().T), 1))\n",
    "        \n",
    "        if r == index_max:\n",
    "            tm[r] = 0\n",
    "        else:\n",
    "            tm[r] = m[r] - nr/z\n",
    "            \n",
    "    tm[index_max] = np.sum(m, axis=0) - np.sum(tm, axis=0)\n",
    "    tm = tm.conj().T                    \n",
    "            \n",
    "    return tm, z\n",
    "                                                               \n",
    "\n",
    "def safenormcdf(x):\n",
    "    thresh=-10;\n",
    "    x[np.nonzero(x<thresh)] = thresh\n",
    "    return normcdfM(x)\n",
    "\n",
    "def safenormpdf(x):\n",
    "    thresh=35;\n",
    "    x[np.nonzero(x<-thresh)] = -thresh\n",
    "    x[np.nonzero(x>thresh)] = thresh\n",
    "    return normpdfM(x)\n",
    "        "
   ]
  },
  {
   "cell_type": "code",
   "execution_count": 146,
   "metadata": {
    "collapsed": false
   },
   "outputs": [
    {
     "name": "stdout",
     "output_type": "stream",
     "text": [
      "(6,)\n",
      "(1000, 1)\n",
      "6\n",
      "(5, 6)\n",
      "1000\n"
     ]
    },
    {
     "ename": "ValueError",
     "evalue": "operands could not be broadcast together with shapes (1000,5) (6000,5) ",
     "output_type": "error",
     "traceback": [
      "\u001b[1;31m---------------------------------------------------------------------------\u001b[0m",
      "\u001b[1;31mValueError\u001b[0m                                Traceback (most recent call last)",
      "\u001b[1;32m<ipython-input-146-f2ed7d9b45c0>\u001b[0m in \u001b[0;36m<module>\u001b[1;34m()\u001b[0m\n\u001b[0;32m     63\u001b[0m \u001b[0mtheta\u001b[0m \u001b[1;33m=\u001b[0m \u001b[0mnp\u001b[0m\u001b[1;33m.\u001b[0m\u001b[0mrandom\u001b[0m\u001b[1;33m.\u001b[0m\u001b[0mrand\u001b[0m\u001b[1;33m(\u001b[0m\u001b[1;36m1\u001b[0m\u001b[1;33m,\u001b[0m \u001b[1;36m100\u001b[0m\u001b[1;33m)\u001b[0m\u001b[1;33m\u001b[0m\u001b[0m\n\u001b[0;32m     64\u001b[0m \u001b[0my\u001b[0m \u001b[1;33m=\u001b[0m \u001b[0mnp\u001b[0m\u001b[1;33m.\u001b[0m\u001b[0marray\u001b[0m\u001b[1;33m(\u001b[0m\u001b[1;33m[\u001b[0m\u001b[1;36m1\u001b[0m\u001b[1;33m,\u001b[0m \u001b[1;36m2\u001b[0m\u001b[1;33m,\u001b[0m \u001b[1;36m3\u001b[0m\u001b[1;33m,\u001b[0m \u001b[1;36m4\u001b[0m\u001b[1;33m,\u001b[0m \u001b[1;36m5\u001b[0m\u001b[1;33m,\u001b[0m \u001b[1;36m6\u001b[0m\u001b[1;33m]\u001b[0m\u001b[1;33m)\u001b[0m\u001b[1;33m\u001b[0m\u001b[0m\n\u001b[1;32m---> 65\u001b[1;33m \u001b[0mVarMultProbRegGP\u001b[0m\u001b[1;33m(\u001b[0m\u001b[0mX\u001b[0m\u001b[1;33m,\u001b[0m \u001b[0my\u001b[0m\u001b[1;33m,\u001b[0m \u001b[0mtheta\u001b[0m\u001b[1;33m=\u001b[0m\u001b[0mtheta\u001b[0m\u001b[1;33m,\u001b[0m \u001b[0mnos_its\u001b[0m\u001b[1;33m=\u001b[0m\u001b[1;36m100\u001b[0m\u001b[1;33m,\u001b[0m \u001b[0mthresh\u001b[0m \u001b[1;33m=\u001b[0m \u001b[1;36m0.01\u001b[0m\u001b[1;33m)\u001b[0m\u001b[1;33m\u001b[0m\u001b[0m\n\u001b[0m\u001b[0;32m     66\u001b[0m \u001b[1;33m\u001b[0m\u001b[0m\n",
      "\u001b[1;32m<ipython-input-146-f2ed7d9b45c0>\u001b[0m in \u001b[0;36mVarMultProbRegGP\u001b[1;34m(X, t, X_test, t_test, theta, theta_estimate, nos_its, kernel_Type, poly_kernel_power, thresh)\u001b[0m\n\u001b[0;32m     55\u001b[0m \u001b[1;33m\u001b[0m\u001b[0m\n\u001b[0;32m     56\u001b[0m         \u001b[1;32mfor\u001b[0m \u001b[0mn\u001b[0m \u001b[1;32min\u001b[0m \u001b[0mrange\u001b[0m\u001b[1;33m(\u001b[0m\u001b[1;36m0\u001b[0m\u001b[1;33m,\u001b[0m \u001b[0mN\u001b[0m\u001b[1;33m)\u001b[0m\u001b[1;33m:\u001b[0m\u001b[1;33m\u001b[0m\u001b[0m\n\u001b[1;32m---> 57\u001b[1;33m             \u001b[0ma\u001b[0m\u001b[1;33m,\u001b[0m \u001b[0mz\u001b[0m \u001b[1;33m=\u001b[0m \u001b[0mtmean\u001b[0m\u001b[1;33m(\u001b[0m\u001b[0mM\u001b[0m\u001b[1;33m[\u001b[0m\u001b[0mn\u001b[0m\u001b[1;33m,\u001b[0m\u001b[1;33m]\u001b[0m\u001b[1;33m.\u001b[0m\u001b[0mconj\u001b[0m\u001b[1;33m(\u001b[0m\u001b[1;33m)\u001b[0m\u001b[1;33m.\u001b[0m\u001b[0mT\u001b[0m\u001b[1;33m,\u001b[0m \u001b[0mt\u001b[0m\u001b[1;33m[\u001b[0m\u001b[0mn\u001b[0m\u001b[1;33m]\u001b[0m\u001b[1;33m,\u001b[0m \u001b[0mnos_samps_tg\u001b[0m\u001b[1;33m)\u001b[0m\u001b[1;33m\u001b[0m\u001b[0m\n\u001b[0m\u001b[0;32m     58\u001b[0m             \u001b[0mY\u001b[0m\u001b[1;33m[\u001b[0m\u001b[0mn\u001b[0m\u001b[1;33m,\u001b[0m\u001b[1;33m]\u001b[0m \u001b[1;33m=\u001b[0m \u001b[0ma\u001b[0m\u001b[1;33m.\u001b[0m\u001b[0mconj\u001b[0m\u001b[1;33m(\u001b[0m\u001b[1;33m)\u001b[0m\u001b[1;33m.\u001b[0m\u001b[0mT\u001b[0m\u001b[1;33m\u001b[0m\u001b[0m\n\u001b[0;32m     59\u001b[0m \u001b[1;33m\u001b[0m\u001b[0m\n",
      "\u001b[1;32m<ipython-input-145-1b4cfca1678d>\u001b[0m in \u001b[0;36mtmean\u001b[1;34m(m, index_max, n_samps)\u001b[0m\n\u001b[0;32m     18\u001b[0m     \u001b[1;32mprint\u001b[0m \u001b[0mn_samps\u001b[0m\u001b[1;33m\u001b[0m\u001b[0m\n\u001b[0;32m     19\u001b[0m \u001b[1;33m\u001b[0m\u001b[0m\n\u001b[1;32m---> 20\u001b[1;33m     \u001b[0ms\u001b[0m \u001b[1;33m=\u001b[0m \u001b[0mnp\u001b[0m\u001b[1;33m.\u001b[0m\u001b[0mtile\u001b[0m\u001b[1;33m(\u001b[0m\u001b[0mu\u001b[0m\u001b[1;33m,\u001b[0m \u001b[1;33m(\u001b[0m\u001b[1;36m1\u001b[0m\u001b[1;33m,\u001b[0m \u001b[0mK\u001b[0m\u001b[1;33m-\u001b[0m\u001b[1;36m1\u001b[0m\u001b[1;33m)\u001b[0m\u001b[1;33m)\u001b[0m \u001b[1;33m+\u001b[0m \u001b[0mnp\u001b[0m\u001b[1;33m.\u001b[0m\u001b[0mtile\u001b[0m\u001b[1;33m(\u001b[0m\u001b[0mt\u001b[0m\u001b[1;33m,\u001b[0m\u001b[1;33m(\u001b[0m\u001b[1;36m1\u001b[0m\u001b[1;33m,\u001b[0m \u001b[0mn_samps\u001b[0m\u001b[1;33m)\u001b[0m\u001b[1;33m)\u001b[0m\u001b[1;33m.\u001b[0m\u001b[0mconj\u001b[0m\u001b[1;33m(\u001b[0m\u001b[1;33m)\u001b[0m\u001b[1;33m.\u001b[0m\u001b[0mT\u001b[0m\u001b[1;33m\u001b[0m\u001b[0m\n\u001b[0m\u001b[0;32m     21\u001b[0m     \u001b[0mz\u001b[0m \u001b[1;33m=\u001b[0m \u001b[0mnp\u001b[0m\u001b[1;33m.\u001b[0m\u001b[0mmean\u001b[0m\u001b[1;33m(\u001b[0m\u001b[0mnp\u001b[0m\u001b[1;33m.\u001b[0m\u001b[0mprod\u001b[0m\u001b[1;33m(\u001b[0m\u001b[0msafenormcdf\u001b[0m\u001b[1;33m(\u001b[0m\u001b[0ms\u001b[0m\u001b[1;33m.\u001b[0m\u001b[0mconj\u001b[0m\u001b[1;33m(\u001b[0m\u001b[1;33m)\u001b[0m\u001b[1;33m.\u001b[0m\u001b[0mT\u001b[0m\u001b[1;33m)\u001b[0m\u001b[1;33m,\u001b[0m \u001b[1;36m0\u001b[0m\u001b[1;33m)\u001b[0m\u001b[1;33m)\u001b[0m\u001b[1;33m\u001b[0m\u001b[0m\n\u001b[0;32m     22\u001b[0m \u001b[1;33m\u001b[0m\u001b[0m\n",
      "\u001b[1;31mValueError\u001b[0m: operands could not be broadcast together with shapes (1000,5) (6000,5) "
     ]
    }
   ],
   "source": [
    "import numpy as np\n",
    "\n",
    "def dist(X,Y,Z): # X, Y matrices, Z vector\n",
    "    nx = X.shape[0]\n",
    "    ny = Y.shape[0]\n",
    "\n",
    "    distance= (np.sum((X**2)*Z, 1)*np.ones((1,ny))+\n",
    "               np.ones((nx,1))*(np.sum((X**2)*Z, 1).conj().T) - 2*(np.dot(X*Z, Y.conj().T)))\n",
    "        \n",
    "    return distance\n",
    "\n",
    "\n",
    "def VarMultProbRegGP(X, t, X_test=0, t_test=0, theta=0, theta_estimate=0, \n",
    "                     nos_its=0, kernel_Type=0, poly_kernel_power=0, thresh=0):\n",
    "\n",
    "    SMALL_NOS = 1e-10\n",
    "\n",
    "    nos_samps_tg = 1000\n",
    "\n",
    "    nos_samps_is = 1000\n",
    "\n",
    "    sigma = 1e-6\n",
    "\n",
    "    tau = 1e-6\n",
    "\n",
    "    C = np.max(t)\n",
    "    N, D = X.shape\n",
    "    Y = np.random.randn(N, C)\n",
    "    M = np.random.randn(N, C)\n",
    "    beta = theta\n",
    "    Theta = np.diag(theta)\n",
    "\n",
    "    psi = np.ones((1, theta.size)) \n",
    "    In = np.eye(N)\n",
    "    Ic = np.eye(C)\n",
    "\n",
    "    diff = 1e100\n",
    "    its = 0\n",
    "\n",
    "    K = np.exp(-dist(X,X,Theta)) + np.eye(N)*SMALL_NOS; # TODO: implement create kernel function\n",
    "\n",
    "    iK = np.linalg.inv(K+In)\n",
    "    Ki = K*iK\n",
    "    \n",
    "    THETA = []\n",
    "    #LOWER_BOUND = [-1e-3]\n",
    "    PL = []\n",
    "    \n",
    "    test_err = []\n",
    "    while its<nos_its and diff>thresh:\n",
    "        its += 1\n",
    "        \n",
    "        for k in range(0, C):\n",
    "            M[:,k] = np.dot(Ki, Y[:,k])\n",
    "            \n",
    "        for n in range(0, N):\n",
    "            a, z = tmean(M[n,].conj().T, t[n], nos_samps_tg)\n",
    "            Y[n,] = a.conj().T\n",
    "    \n",
    "    \n",
    "    \n",
    "X = np.random.randint(5, size=(6, 100))\n",
    "theta = np.random.rand(1, 100)\n",
    "y = np.array([1, 2, 3, 4, 5, 6])\n",
    "VarMultProbRegGP(X, y, theta=theta, nos_its=100, thresh = 0.01)    \n",
    "\n"
   ]
  }
 ],
 "metadata": {
  "kernelspec": {
   "display_name": "Python 2",
   "language": "python",
   "name": "python2"
  },
  "language_info": {
   "codemirror_mode": {
    "name": "ipython",
    "version": 2
   },
   "file_extension": ".py",
   "mimetype": "text/x-python",
   "name": "python",
   "nbconvert_exporter": "python",
   "pygments_lexer": "ipython2",
   "version": "2.7.6"
  }
 },
 "nbformat": 4,
 "nbformat_minor": 0
}
