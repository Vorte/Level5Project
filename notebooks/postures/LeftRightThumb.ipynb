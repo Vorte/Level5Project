{
 "metadata": {
  "name": ""
 },
 "nbformat": 3,
 "nbformat_minor": 0,
 "worksheets": [
  {
   "cells": [
    {
     "cell_type": "code",
     "collapsed": false,
     "input": [
      "import numpy as np\n",
      "import dataIO\n",
      "import matplotlib.pyplot as plt\n",
      "from sklearn import svm, preprocessing, cross_validation\n",
      "from sklearn.grid_search import GridSearchCV\n",
      "from sklearn.metrics import confusion_matrix\n",
      "%matplotlib inline\n",
      "\n",
      "left, right = dataIO.read_twothumb(14)\n",
      "\n",
      "X = np.concatenate((left, right))\n",
      "y = np.array([0 for x in range(156)]+ [1 for x in range(156)])\n",
      "\n",
      "# random_state = seed for random generator\n",
      "X_train, X_test, y_train, y_test = cross_validation.train_test_split(X, y, test_size=0.3)\n",
      "\n",
      "scaler = preprocessing.StandardScaler().fit(X_train)  \n",
      "X_scaled = scaler.transform(X_train)\n",
      "test_scaled = scaler.transform(X_test)\n",
      "\n",
      "tuned_parameters = [{'kernel': ['rbf'], 'gamma': [1e-2, 1e-3, 1e-4], # more parameters?\n",
      "                     'C': [0.001, 0.01, 0.1 ,1, 10, 100, 1000]},\n",
      "                    {'kernel': ['linear'], 'C': [0.001, 0.01, 0.1 ,1, 10, 100, 1000]}]\n",
      "\n",
      "\n",
      "clf = GridSearchCV(svm.SVC(C=1, cache_size=500), tuned_parameters, cv=10) # scoring function?\n",
      "clf.fit(X_scaled, y_train)\n",
      "\n",
      "print(\"Best parameters set found on training set:\")\n",
      "print\n",
      "print clf.best_estimator_\n",
      "print\n",
      "print \"Grid scores on training set:\"\n",
      "print\n",
      "for params, mean_score, scores in clf.grid_scores_:\n",
      "    print(\"%0.3f (+/-%0.03f) for %r\"\n",
      "          % (mean_score, scores.std() / 2, params))\n",
      "\n",
      "y_true, y_pred = y_test, clf.predict(test_scaled)\n",
      "cm = confusion_matrix(y_true, y_pred)\n",
      "print\n",
      "print \"Confusion matrix:\"\n",
      "print\n",
      "print(cm)\n",
      "print\n",
      "      \n",
      "print \"Confusion matrix in colour:\"\n",
      "print \n",
      "plt.matshow(cm)\n",
      "plt.title('Confusion matrix')\n",
      "plt.colorbar()\n",
      "plt.ylabel('True label')\n",
      "plt.xlabel('Predicted label')\n",
      "\n",
      "for i, cas in enumerate(cm):\n",
      "    for j, c in enumerate(cas):\n",
      "        if c>0:\n",
      "            plt.text(j-.2, i+.2, c, fontsize=20)\n",
      "            \n",
      "plt.show()"
     ],
     "language": "python",
     "metadata": {},
     "outputs": [
      {
       "ename": "ImportError",
       "evalue": "No module named dataIO",
       "output_type": "pyerr",
       "traceback": [
        "\u001b[0;31m---------------------------------------------------------------------------\u001b[0m\n\u001b[0;31mImportError\u001b[0m                               Traceback (most recent call last)",
        "\u001b[0;32m<ipython-input-2-fa3114049c06>\u001b[0m in \u001b[0;36m<module>\u001b[0;34m()\u001b[0m\n\u001b[1;32m      1\u001b[0m \u001b[0;32mimport\u001b[0m \u001b[0mnumpy\u001b[0m \u001b[0;32mas\u001b[0m \u001b[0mnp\u001b[0m\u001b[0;34m\u001b[0m\u001b[0m\n\u001b[0;32m----> 2\u001b[0;31m \u001b[0;32mimport\u001b[0m \u001b[0mdataIO\u001b[0m\u001b[0;34m\u001b[0m\u001b[0m\n\u001b[0m\u001b[1;32m      3\u001b[0m \u001b[0;32mimport\u001b[0m \u001b[0mmatplotlib\u001b[0m\u001b[0;34m.\u001b[0m\u001b[0mpyplot\u001b[0m \u001b[0;32mas\u001b[0m \u001b[0mplt\u001b[0m\u001b[0;34m\u001b[0m\u001b[0m\n\u001b[1;32m      4\u001b[0m \u001b[0;32mfrom\u001b[0m \u001b[0msklearn\u001b[0m \u001b[0;32mimport\u001b[0m \u001b[0msvm\u001b[0m\u001b[0;34m,\u001b[0m \u001b[0mpreprocessing\u001b[0m\u001b[0;34m,\u001b[0m \u001b[0mcross_validation\u001b[0m\u001b[0;34m\u001b[0m\u001b[0m\n\u001b[1;32m      5\u001b[0m \u001b[0;32mfrom\u001b[0m \u001b[0msklearn\u001b[0m\u001b[0;34m.\u001b[0m\u001b[0mgrid_search\u001b[0m \u001b[0;32mimport\u001b[0m \u001b[0mGridSearchCV\u001b[0m\u001b[0;34m\u001b[0m\u001b[0m\n",
        "\u001b[0;31mImportError\u001b[0m: No module named dataIO"
       ]
      }
     ],
     "prompt_number": 2
    }
   ],
   "metadata": {}
  }
 ]
}