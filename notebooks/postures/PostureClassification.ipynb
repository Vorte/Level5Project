{
 "cells": [
  {
   "cell_type": "code",
   "execution_count": 5,
   "metadata": {
    "collapsed": false
   },
   "outputs": [
    {
     "name": "stdout",
     "output_type": "stream",
     "text": [
      "Best parameters set found on development set:\n",
      "\n",
      "SVC(C=100, cache_size=200, class_weight=None, coef0=0.0, degree=3,\n",
      "  gamma=0.001, kernel='rbf', max_iter=-1, probability=False,\n",
      "  random_state=None, shrinking=True, tol=0.001, verbose=False)\n",
      "\n",
      "Confusion matrix:\n",
      "\n",
      "[[46  0  1  1]\n",
      " [ 0 46  0  0]\n",
      " [ 1  0 47  0]\n",
      " [ 1  0  0 91]]\n",
      "\n"
     ]
    }
   ],
   "source": [
    "import numpy as np\n",
    "import dataIO\n",
    "from sklearn import svm, preprocessing, cross_validation\n",
    "from sklearn.grid_search import GridSearchCV\n",
    "from sklearn.metrics import confusion_matrix\n",
    "reload(dataIO)\n",
    "\n",
    "userId =9\n",
    "twohand = dataIO.read_file(userId, \"two_hand\")\n",
    "lefthand = dataIO.read_file(userId, \"left_hand\")\n",
    "righthand = dataIO.read_file(userId, \"right_hand\")\n",
    "indexfinger = dataIO.read_file(userId, \"index_finger\")\n",
    "\n",
    "X = np.array(lefthand+ righthand+ indexfinger+twohand)\n",
    "y = np.array([0 for x in range(len(lefthand))]+ [1 for x in range(len(righthand))]+\n",
    "             [2 for x in range(len(indexfinger))]+[3 for x in range(len(twohand))])\n",
    "\n",
    "X_train, X_test, y_train, y_test = cross_validation.train_test_split(X, y, test_size=0.3)\n",
    "\n",
    "scaler = preprocessing.StandardScaler().fit(X_train)  \n",
    "X_scaled = scaler.transform(X_train)\n",
    "test_scaled = scaler.transform(X_test)\n",
    "\n",
    "tuned_parameters = [{'kernel': ['rbf'], 'gamma': [10, 1, 0.1, 1e-2, 1e-3],\n",
    "                     'C': [0.001, 0.01, 0.1 ,1, 10, 100, 1000]},\n",
    "                    {'kernel': ['linear'], 'C': [0.001, 0.01, 0.1 ,1, 10, 100, 1000]}]\n",
    "\n",
    "\n",
    "clf = GridSearchCV(svm.SVC(C=1), tuned_parameters)\n",
    "clf.fit(X_scaled, y_train)\n",
    "\n",
    "print(\"Best parameters set found on development set:\")\n",
    "print\n",
    "print clf.best_estimator_\n",
    "print\n",
    "\n",
    "y_true, y_pred = y_test, clf.predict(test_scaled)\n",
    "cm = confusion_matrix(y_true, y_pred)\n",
    "print \"Confusion matrix:\"\n",
    "print\n",
    "print(cm)\n",
    "print"
   ]
  },
  {
   "cell_type": "code",
   "execution_count": 30,
   "metadata": {
    "collapsed": false
   },
   "outputs": [
    {
     "data": {
      "image/png": "[encoded data removed]",
      "text/plain": [
       "<matplotlib.figure.Figure at 0x7f89c149fd50>"
      ]
     },
     "metadata": {},
     "output_type": "display_data"
    }
   ],
   "source": [
    "import matplotlib.pyplot as plt\n",
    "%matplotlib inline\n",
    "\n",
    "plt.matshow(cm)\n",
    "plt.title('Confusion matrix')\n",
    "plt.colorbar()\n",
    "plt.ylabel('True label')\n",
    "plt.xlabel('Predicted label')\n",
    "\n",
    "for i, cas in enumerate(cm):\n",
    "    for j, c in enumerate(cas):\n",
    "        plt.text(j-.2, i+.2, c, fontsize=20, color='magenta')\n",
    "            \n",
    "plt.show()"
   ]
  }
 ],
 "metadata": {
  "kernelspec": {
   "display_name": "Python 2",
   "language": "python",
   "name": "python2"
  },
  "language_info": {
   "codemirror_mode": {
    "name": "ipython",
    "version": 2
   },
   "file_extension": ".py",
   "mimetype": "text/x-python",
   "name": "python",
   "nbconvert_exporter": "python",
   "pygments_lexer": "ipython2",
   "version": "2.7.9"
  }
 },
 "nbformat": 4,
 "nbformat_minor": 0
}
