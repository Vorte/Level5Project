{
 "cells": [
  {
   "cell_type": "code",
   "execution_count": 39,
   "metadata": {
    "collapsed": false
   },
   "outputs": [
    {
     "data": {
      "image/png": "[encoded data removed]",
      "text/plain": [
       "<matplotlib.figure.Figure at 0x7ffba6410350>"
      ]
     },
     "metadata": {},
     "output_type": "display_data"
    }
   ],
   "source": [
    "import numpy as np\n",
    "import dataIO\n",
    "from sklearn import svm, preprocessing\n",
    "from sklearn.decomposition import PCA\n",
    "from matplotlib import pyplot as pl\n",
    "%matplotlib inline\n",
    "reload(dataIO)\n",
    "\n",
    "def contains_spikes(values):\n",
    "    for value in values:\n",
    "        if value>40000:\n",
    "            return True\n",
    "    \n",
    "    return False\n",
    "\n",
    "left = []\n",
    "right = []\n",
    "for i in range(3):\n",
    "    left_s, right_s = dataIO.read_twothumb(7, i) # USERID\n",
    "    \n",
    "    left_filt = []\n",
    "    right_filt = []\n",
    "    for j in range(len(left_s)):\n",
    "        if not contains_spikes(left_s[j]):\n",
    "            left_filt.append(left_s[j])\n",
    "        \n",
    "        if not contains_spikes(right_s[j]):\n",
    "            right_filt.append(right_s[j])\n",
    "    \n",
    "    left.append(left_filt)\n",
    "    right.append(right_filt)\n",
    "    \n",
    "X = np.array(left[0]+left[1]+left[2]+right[0]+right[1]+right[2])\n",
    "\n",
    "scaler = preprocessing.StandardScaler().fit(X)   \n",
    "X_scaled = scaler.transform(X)\n",
    "\n",
    "pca = PCA(n_components=2)\n",
    "data = pca.fit_transform(X_scaled)\n",
    "\n",
    "len_sum = 0\n",
    "left1 = np.array(data[:len(left[0])]).T\n",
    "len_sum += len(left[0])\n",
    "left2 = np.array(data[len_sum:len_sum+len(left[1])]).T\n",
    "len_sum += len(left[1])\n",
    "left3 = np.array(data[len_sum:len_sum+len(left[2])]).T\n",
    "len_sum += len(left[2])\n",
    "right1 = np.array(data[len_sum:len_sum+len(right[0])]).T\n",
    "len_sum += len(right[0])\n",
    "right2 = np.array(data[len_sum:len_sum+len(right[1])]).T\n",
    "len_sum += len(right[1])\n",
    "right3 = np.array(data[len_sum:len_sum+len(right[2])]).T\n",
    "\n",
    "pl.figure(figsize=(4,3))\n",
    "#pl.rc('text', usetex=True)\n",
    "\n",
    "#line1 = pl.plot(left1[0], left1[1], marker='o', color='b', ls='', label='left 1', s = 0.1)\n",
    "pl.scatter(left1[0], left1[1], marker='o', color='b', label='left 1', s=8)\n",
    "pl.scatter(left2[0], left2[1], marker='o', color='y', label='left 2', s=8)\n",
    "pl.scatter(left3[0], left3[1], marker='o', color='c', label='left 3', s=8)\n",
    "pl.scatter(right1[0], right1[1], marker='^', color='r', label='right 1', s=8)\n",
    "pl.scatter(right2[0], right2[1], marker='^', color='g', label='right 2', s=8)\n",
    "pl.scatter(right3[0], right3[1], marker='^', color='m', label='right 3', s=8)\n",
    "\n",
    "#pl.legend(loc='best')\n",
    "pl.legend(loc=9, bbox_to_anchor=(0.5, -0.1), ncol=3)\n",
    "#pl.show()\n",
    "#pl.savefig('/users/level5/1005056p/Desktop/Latex/L5Project/mpaper/img/pca7.png', bbox_inches='tight', dpi=400)"
   ]
  }
 ],
 "metadata": {
  "kernelspec": {
   "display_name": "Python 2",
   "language": "python",
   "name": "python2"
  },
  "language_info": {
   "codemirror_mode": {
    "name": "ipython",
    "version": 2
   },
   "file_extension": ".py",
   "mimetype": "text/x-python",
   "name": "python",
   "nbconvert_exporter": "python",
   "pygments_lexer": "ipython2",
   "version": "2.7.9"
  }
 },
 "nbformat": 4,
 "nbformat_minor": 0
}
