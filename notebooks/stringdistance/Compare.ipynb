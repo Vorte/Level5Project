{
 "cells": [
  {
   "cell_type": "code",
   "execution_count": 1,
   "metadata": {
    "collapsed": false
   },
   "outputs": [
    {
     "name": "stdout",
     "output_type": "stream",
     "text": [
      "Processing user: 3\n",
      "Processing user: 4\n",
      "Processing user: 5\n",
      "Processing user: 6\n",
      "Processing user: 7\n",
      "Processing user: 8\n",
      "Processing user: 9\n",
      "Processing user: 10\n",
      "Processing user: 11\n",
      "Processing user: 12\n",
      "Processing user: 13\n",
      "Processing user: 14\n",
      "Processing user: 15\n",
      "Processing user: 16\n",
      "Processing user: 17\n",
      "#########\n",
      "Processing complete\n"
     ]
    }
   ],
   "source": [
    "import numpy as np\n",
    "import averageGP, predictGP, predict\n",
    "\n",
    "nomod = np.zeros((15, 7))\n",
    "pred = np.zeros((15, 7))\n",
    "predGP = np.zeros((15, 7))\n",
    "averGP = np.zeros((15, 7))\n",
    "\n",
    "nomod_ph = np.zeros(15)\n",
    "pred_ph = np.zeros(15)\n",
    "predGP_ph = np.zeros(15)\n",
    "averGP_ph = np.zeros(15)\n",
    "\n",
    "for i in range(3, 18):\n",
    "    print (\"Processing user: %d\" %i)\n",
    "    before, after, b_ph, a_ph = predict.run(i)\n",
    "    nomod[i-3] = before\n",
    "    pred[i-3] = after\n",
    "    nomod_ph[i-3] = b_ph\n",
    "    pred_ph[i-3] = a_ph\n",
    "    \n",
    "    before, after, b_ph, a_ph = predictGP.run(i)\n",
    "    predGP[i-3] = after\n",
    "    predGP_ph[i-3] = a_ph\n",
    "    \n",
    "    before, after, b_ph, a_ph = averageGP.run(i)\n",
    "    averGP[i-3] = after\n",
    "    averGP_ph[i-3] = a_ph\n",
    "\n",
    "print \"#########\"    \n",
    "print \"Processing complete\"    \n",
    "    "
   ]
  },
  {
   "cell_type": "code",
   "execution_count": 31,
   "metadata": {
    "collapsed": false
   },
   "outputs": [
    {
     "name": "stdout",
     "output_type": "stream",
     "text": [
      "18.446753536\n",
      "17.214299574\n",
      "17.2777635473\n",
      "16.294995274\n"
     ]
    }
   ],
   "source": [
    "nomod_ph = np.array([ 25.1151859,   18.07938028,  26.50051007,  11.66788854,   8.06321751,\n",
    "  13.64423356,  24.32307367,  15.76499372,   8.98525962,  20.62505426,\n",
    "  20.08021388,  18.82491833,  22.09510628,  18.82148032,  24.1107871 ])\n",
    "pred_ph = np.array([ 25.0524641,  13.44048009,  27.31421756,  13.00833735,  11.3652323,\n",
    "   8.74228304,  29.27470334,  10.96036949,   9.45247536,  19.84057501,\n",
    "  15.91967363,  17.56717399,  20.58920024,  16.12536741,  19.5619407 ])\n",
    "predGP_ph = np.array([ 25.27234809,  13.13360834,  28.31604499, 13.13868254,  11.61310361,\n",
    "   8.39933263,  28.95603516,  11.12571365,   9.20357628,  18.83323855,\n",
    "  16.37772468,  16.49212057,  20.32634511,  19.21634542,  18.76223359])\n",
    "averGP_ph = np.array([ 23.46154777,  10.37287213,  27.81063562,  11.58030513,   9.89885981,\n",
    "   7.96784661,  27.16622537,  10.89598749,   9.5905824,   18.05696488,\n",
    "  15.56614042,  16.06233505,  20.19400352,  15.18062735,  20.61999556])\n",
    "\n",
    "print np.mean(nomod_ph)\n",
    "print np.mean(pred_ph)\n",
    "print np.mean(predGP_ph)\n",
    "print np.mean(averGP_ph)"
   ]
  },
  {
   "cell_type": "code",
   "execution_count": 131,
   "metadata": {
    "collapsed": false
   },
   "outputs": [
    {
     "name": "stdout",
     "output_type": "stream",
     "text": [
      "53.0770997796\n",
      "44.2987457235\n",
      "44.6111334329\n",
      "43.075058759\n"
     ]
    }
   ],
   "source": [
    "print np.mean(nomod[:,1])\n",
    "print np.mean(pred[:,1])\n",
    "print np.mean(predGP[:,1])\n",
    "print np.mean(averGP[:,1])"
   ]
  },
  {
   "cell_type": "code",
   "execution_count": 40,
   "metadata": {
    "collapsed": false
   },
   "outputs": [
    {
     "name": "stdout",
     "output_type": "stream",
     "text": [
      "(2.7800548577404736, 0.014747793637793553)\n"
     ]
    }
   ],
   "source": [
    "from scipy import stats\n",
    "\n",
    "print stats.ttest_rel(nomod_ph, averGP_ph)"
   ]
  },
  {
   "cell_type": "code",
   "execution_count": 128,
   "metadata": {
    "collapsed": false
   },
   "outputs": [
    {
     "name": "stdout",
     "output_type": "stream",
     "text": [
      "13.644233556\n",
      "8.74228304199\n",
      "8.39933263434\n",
      "7.96784660703\n"
     ]
    },
    {
     "data": {
      "image/png": "[encoded data removed]",
      "text/plain": [
       "<matplotlib.figure.Figure at 0x7f307c163110>"
      ]
     },
     "metadata": {},
     "output_type": "display_data"
    }
   ],
   "source": [
    "import matplotlib.pyplot as plt\n",
    "%matplotlib inline\n",
    "\n",
    "userId = 8\n",
    "\n",
    "fig = plt.figure(figsize=(10, 7))\n",
    "\n",
    "print nomod_ph[userId -3]\n",
    "print pred_ph[userId -3]\n",
    "print predGP_ph[userId -3]\n",
    "print averGP_ph[userId -3]\n",
    "\n",
    "plt.errorbar(range(1,8), pred[userId -3], marker=\"o\", label = \"predictSVM\")\n",
    "#plt.errorbar(range(1,8), nomod[userId -3], linestyle=\"--\", marker=\"o\", label=\"no model\")\n",
    "plt.errorbar(range(1,8), predGP[userId -3], linestyle=\"--\", marker=\"o\", label = \"predictGP\")\n",
    "plt.errorbar(range(1,8), averGP[userId -3], linestyle=\"-\", marker=\"o\", label=\"averageGP\")\n",
    "\n",
    "plt.legend(loc='best')\n",
    "plt.xlabel('virtual button size in mm')\n",
    "plt.ylabel('MSD error rate %')\n",
    "#plt.savefig('/users/level5/1005056p/Desktop/Latex/L5Project/mpaper/img/compare_msd4.png', bbox_inches='tight', dpi=400)\n",
    "plt.show()"
   ]
  }
 ],
 "metadata": {
  "kernelspec": {
   "display_name": "Python 2",
   "language": "python",
   "name": "python2"
  },
  "language_info": {
   "codemirror_mode": {
    "name": "ipython",
    "version": 2
   },
   "file_extension": ".py",
   "mimetype": "text/x-python",
   "name": "python",
   "nbconvert_exporter": "python",
   "pygments_lexer": "ipython2",
   "version": "2.7.9"
  }
 },
 "nbformat": 4,
 "nbformat_minor": 0
}
