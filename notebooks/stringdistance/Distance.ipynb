{
 "cells": [
  {
   "cell_type": "code",
   "execution_count": 1,
   "metadata": {
    "collapsed": false
   },
   "outputs": [
    {
     "name": "stdout",
     "output_type": "stream",
     "text": [
      "user 4\n"
     ]
    }
   ],
   "source": [
    "import predictpostures\n",
    "reload(predictpostures)\n",
    "\n",
    "typed= []\n",
    "pred = []\n",
    "for i in range(4, 5):\n",
    "    print \"user \"+ str(i)\n",
    "    a, b = predictpostures.run(i)\n",
    "    typed += a    \n",
    "    pred += b\n",
    "    "
   ]
  },
  {
   "cell_type": "code",
   "execution_count": 57,
   "metadata": {
    "collapsed": false
   },
   "outputs": [
    {
     "name": "stdout",
     "output_type": "stream",
     "text": [
      "[[1 2]\n",
      " [5 6]\n",
      " [7 8]]\n"
     ]
    }
   ],
   "source": [
    "a = np.array([[1,2],[3,4],[5,6],[7,8]])\n",
    "\n",
    "print np.delete(a, np.s_[1:2],0)"
   ]
  },
  {
   "cell_type": "code",
   "execution_count": 2,
   "metadata": {
    "collapsed": false
   },
   "outputs": [
    {
     "name": "stdout",
     "output_type": "stream",
     "text": [
      "(42,)\n",
      "(42,)\n",
      "\n",
      "9.83012751718\n",
      "10.1376851864\n"
     ]
    }
   ],
   "source": [
    "import numpy as np\n",
    "\n",
    "print np.array(typed).shape\n",
    "print np.array(pred).shape\n",
    "print    \n",
    "print np.mean(np.array(typed))\n",
    "print np.mean(np.array(pred)) "
   ]
  },
  {
   "cell_type": "code",
   "execution_count": 6,
   "metadata": {
    "collapsed": false
   },
   "outputs": [
    {
     "name": "stdout",
     "output_type": "stream",
     "text": [
      "(4.0085327854478319, 6.8423771530603123e-05)\n"
     ]
    }
   ],
   "source": [
    "import numpy as np\n",
    "from scipy import stats\n",
    "\n",
    "#numpy.set_printoptions(precision=2)    \n",
    " \n",
    "\n",
    "#a = np.array([23.07, 17.14, 26.19, 11.41, 4.26, 13.19, 19.93, 13.79, 5.41, 18.74, 18.89, 19.11, 16.55, 18.16, 20.91])\n",
    "#b = np.array([23.04, 12.60, 27.05, 12.71, 7.94, 7.66, 25.01, 8.50, 5.94, 18.92, 14.41, 15.78, 14.83, 17.81, 16.82])\n",
    "\n",
    "a = np.array(typed)\n",
    "b = np.array(pred)\n",
    "\n",
    "print stats.ttest_rel(a, b)"
   ]
  },
  {
   "cell_type": "code",
   "execution_count": 1,
   "metadata": {
    "collapsed": false
   },
   "outputs": [],
   "source": [
    "import numpy as np\n",
    "import dataIO\n",
    "from sklearn import cross_validation, linear_model\n",
    "reload(dataIO)\n",
    "import Levenshtein\n",
    "\n",
    "def error_rate(a, b):\n",
    "    msd = Levenshtein.distance(a,b)\n",
    "    \n",
    "    return 100.0*msd/max(len(a), len(b))\n",
    "\n",
    "def learn_offset(points, targets):\n",
    "    regr = linear_model.LinearRegression()\n",
    "    regr.fit(points, targets)\n",
    "    \n",
    "    return regr\n",
    "\n",
    "    "
   ]
  },
  {
   "cell_type": "code",
   "execution_count": 10,
   "metadata": {
    "collapsed": false
   },
   "outputs": [
    {
     "ename": "TypeError",
     "evalue": "distance expected two Strings or two Unicodes",
     "output_type": "error",
     "traceback": [
      "\u001b[1;31m---------------------------------------------------------------------------\u001b[0m",
      "\u001b[1;31mTypeError\u001b[0m                                 Traceback (most recent call last)",
      "\u001b[1;32m<ipython-input-10-ddb24d583b96>\u001b[0m in \u001b[0;36m<module>\u001b[1;34m()\u001b[0m\n\u001b[0;32m     55\u001b[0m     \u001b[0mtyped_sentence\u001b[0m \u001b[1;33m=\u001b[0m \u001b[0mtyped_sentences\u001b[0m\u001b[1;33m[\u001b[0m\u001b[0mi\u001b[0m\u001b[1;33m]\u001b[0m\u001b[1;33m\u001b[0m\u001b[0m\n\u001b[0;32m     56\u001b[0m     \u001b[0mpred_sentence\u001b[0m \u001b[1;33m=\u001b[0m \u001b[0mpred_sentences\u001b[0m\u001b[1;33m[\u001b[0m\u001b[0mi\u001b[0m\u001b[1;33m]\u001b[0m\u001b[1;33m\u001b[0m\u001b[0m\n\u001b[1;32m---> 57\u001b[1;33m     \u001b[0merror_typed\u001b[0m\u001b[1;33m.\u001b[0m\u001b[0mappend\u001b[0m\u001b[1;33m(\u001b[0m\u001b[0merror_rate\u001b[0m\u001b[1;33m(\u001b[0m\u001b[0mreq_sentence\u001b[0m\u001b[1;33m,\u001b[0m \u001b[0mtyped_sentence\u001b[0m\u001b[1;33m)\u001b[0m\u001b[1;33m)\u001b[0m\u001b[1;33m\u001b[0m\u001b[0m\n\u001b[0m\u001b[0;32m     58\u001b[0m     \u001b[0merror_pred\u001b[0m\u001b[1;33m.\u001b[0m\u001b[0mappend\u001b[0m\u001b[1;33m(\u001b[0m\u001b[0merror_rate\u001b[0m\u001b[1;33m(\u001b[0m\u001b[0mreq_sentence\u001b[0m\u001b[1;33m,\u001b[0m \u001b[0mpred_sentence\u001b[0m\u001b[1;33m)\u001b[0m\u001b[1;33m)\u001b[0m\u001b[1;33m\u001b[0m\u001b[0m\n\u001b[0;32m     59\u001b[0m \u001b[1;33m\u001b[0m\u001b[0m\n",
      "\u001b[1;32m<ipython-input-1-4f8254b8b61d>\u001b[0m in \u001b[0;36merror_rate\u001b[1;34m(a, b)\u001b[0m\n\u001b[0;32m      2\u001b[0m \u001b[1;33m\u001b[0m\u001b[0m\n\u001b[0;32m      3\u001b[0m \u001b[1;32mdef\u001b[0m \u001b[0merror_rate\u001b[0m\u001b[1;33m(\u001b[0m\u001b[0ma\u001b[0m\u001b[1;33m,\u001b[0m \u001b[0mb\u001b[0m\u001b[1;33m)\u001b[0m\u001b[1;33m:\u001b[0m\u001b[1;33m\u001b[0m\u001b[0m\n\u001b[1;32m----> 4\u001b[1;33m     \u001b[0mmsd\u001b[0m \u001b[1;33m=\u001b[0m \u001b[0mLevenshtein\u001b[0m\u001b[1;33m.\u001b[0m\u001b[0mdistance\u001b[0m\u001b[1;33m(\u001b[0m\u001b[0ma\u001b[0m\u001b[1;33m,\u001b[0m\u001b[0mb\u001b[0m\u001b[1;33m)\u001b[0m\u001b[1;33m\u001b[0m\u001b[0m\n\u001b[0m\u001b[0;32m      5\u001b[0m \u001b[1;33m\u001b[0m\u001b[0m\n\u001b[0;32m      6\u001b[0m     \u001b[1;32mreturn\u001b[0m \u001b[1;36m100.0\u001b[0m\u001b[1;33m*\u001b[0m\u001b[0mmsd\u001b[0m\u001b[1;33m/\u001b[0m\u001b[0mmax\u001b[0m\u001b[1;33m(\u001b[0m\u001b[0mlen\u001b[0m\u001b[1;33m(\u001b[0m\u001b[0ma\u001b[0m\u001b[1;33m)\u001b[0m\u001b[1;33m,\u001b[0m \u001b[0mlen\u001b[0m\u001b[1;33m(\u001b[0m\u001b[0mb\u001b[0m\u001b[1;33m)\u001b[0m\u001b[1;33m)\u001b[0m\u001b[1;33m\u001b[0m\u001b[0m\n",
      "\u001b[1;31mTypeError\u001b[0m: distance expected two Strings or two Unicodes"
     ]
    }
   ],
   "source": [
    "### POOLED\n",
    "\n",
    "import numpy as np\n",
    "import ast\n",
    "import dataIO\n",
    "reload(dataIO)\n",
    "\n",
    "userId = 11\n",
    "locations, bod, targets_x, targets_y, y, touch_centers = dataIO.process_twohand(userId)\n",
    "\n",
    "locations = np.array(locations)\n",
    "targets_x = np.array(targets_x)\n",
    "targets_y = np.array(targets_y)\n",
    "\n",
    "regr_x = learn_offset(locations, targets_x)\n",
    "regr_y = learn_offset(locations, targets_y)\n",
    "\n",
    "with open(\"/home/dimitar/Desktop/Python/Level5Project/Loggingapp/dataset.txt\") as f:\n",
    "    pool = f.read().splitlines()\n",
    "\n",
    "#def read(userId):\n",
    "req_sentences = []\n",
    "typed_sentences = []\n",
    "pred_sentences = []\n",
    "#for i in range(13, 25):\n",
    "for i in [15, 17, 21]:\n",
    "    column_index = 0\n",
    "    if i in [15, 17, 21]:\n",
    "        column_index = 1\n",
    "\n",
    "    with open(\"/home/dimitar/Desktop/Python/experiment/results/\"\n",
    "               +str(userId)+\"_\"+str(i)+\"up.txt\") as f:\n",
    "        lines = f.read().splitlines()\n",
    "        touches = map(lambda x: x.split('\\t'), lines[1:])\n",
    "\n",
    "    req_string = ''.join(np.array(touches)[:,column_index]) \n",
    "    locations = map(lambda x: list(ast.literal_eval(x)),\n",
    "                            np.array(touches)[:,(column_index+2)])\n",
    "   \n",
    "    for sentence in pool: \n",
    "        index = req_string.find(sentence)\n",
    "        if index!=-1:\n",
    "            req_sentences.append(sentence)\n",
    "            typed_locations = np.array(locations[index:index+len(sentence)])\n",
    "            \n",
    "            pred_x = regr_x.predict(typed_locations)\n",
    "            pred_y = regr_y.predict(typed_locations)\n",
    "            pred = typed_locations + np.dstack((pred_x, pred_y))[0]\n",
    "            \n",
    "            typed_sentences.append(dataIO.typed_string(typed_locations))\n",
    "            pred_sentences.append(dataIO.typed_string(pred))\n",
    "\n",
    "error_typed = []\n",
    "error_pred = []\n",
    "for i in range(len(req_sentences)):    \n",
    "    req_sentence = req_sentences[i]\n",
    "    typed_sentence = typed_sentences[i]\n",
    "    pred_sentence = pred_sentences[i]\n",
    "    error_typed.append(error_rate(req_sentence, typed_sentence))\n",
    "    error_pred.append(error_rate(req_sentence, pred_sentence))\n",
    "\n",
    "print\n",
    "print (\"Mean error rate before: %.2f %%\"% np.mean(np.array(error_typed)))\n",
    "print (\"Mean error rate after: %.2f %%\"% np.mean(np.array(error_pred)))"
   ]
  }
 ],
 "metadata": {
  "kernelspec": {
   "display_name": "Python 2",
   "language": "python",
   "name": "python2"
  },
  "language_info": {
   "codemirror_mode": {
    "name": "ipython",
    "version": 2
   },
   "file_extension": ".py",
   "mimetype": "text/x-python",
   "name": "python",
   "nbconvert_exporter": "python",
   "pygments_lexer": "ipython2",
   "version": "2.7.6"
  }
 },
 "nbformat": 4,
 "nbformat_minor": 0
}
